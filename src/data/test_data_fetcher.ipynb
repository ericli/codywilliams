{
 "cells": [
  {
   "cell_type": "markdown",
   "metadata": {},
   "source": [
    "# DataFetcher Testing Notebook\n",
    "\n",
    "This notebook demonstrates the usage of the DataFetcher class for fetching stock market data."
   ]
  },
  {
   "cell_type": "code",
   "execution_count": 5,
   "metadata": {},
   "outputs": [
    {
     "name": "stdout",
     "output_type": "stream",
     "text": [
      "Intel MKL WARNING: Support of Intel(R) Streaming SIMD Extensions 4.2 (Intel(R) SSE4.2) enabled only processors has been deprecated. Intel oneAPI Math Kernel Library 2025.0 will require Intel(R) Advanced Vector Extensions (Intel(R) AVX) instructions.\n",
      "Intel MKL WARNING: Support of Intel(R) Streaming SIMD Extensions 4.2 (Intel(R) SSE4.2) enabled only processors has been deprecated. Intel oneAPI Math Kernel Library 2025.0 will require Intel(R) Advanced Vector Extensions (Intel(R) AVX) instructions.\n"
     ]
    }
   ],
   "source": [
    "import asyncio\n",
    "from datetime import datetime, timedelta\n",
    "import pandas as pd\n",
    "import logging\n",
    "from data_fetcher import DataFetcher\n",
    "\n",
    "# Set up logging\n",
    "logging.basicConfig(level=logging.INFO)"
   ]
  },
  {
   "cell_type": "code",
   "execution_count": 6,
   "metadata": {},
   "outputs": [],
   "source": [
    "import os\n",
    "from dotenv import load_dotenv\n",
    "\n",
    "# Configuration\n",
    "load_dotenv()\n",
    "\n",
    "API_KEY = os.getenv('POLYGON_API_KEY')\n",
    "TEST_SYMBOLS = ['AAPL', 'MSFT', 'GOOGL', 'AMZN', 'META']\n",
    "BATCH_SIZE = 2  # Smaller batch size for testing"
   ]
  },
  {
   "cell_type": "code",
   "execution_count": 8,
   "metadata": {},
   "outputs": [
    {
     "name": "stdout",
     "output_type": "stream",
     "text": [
      "Fetched 819 records for AAPL\n",
      "Sample data point: MarketData(timestamp=datetime.datetime(2024, 11, 1, 1, 0), symbol='AAPL', price=222.9, volume=4558)\n"
     ]
    }
   ],
   "source": [
    "# Initialize DataFetcher\n",
    "fetcher = DataFetcher(API_KEY, TEST_SYMBOLS, BATCH_SIZE)\n",
    "\n",
    "# Test single symbol fetch\n",
    "async def test_single_fetch():\n",
    "    start_time = datetime.now() - timedelta(days=1)\n",
    "    data = await fetcher.fetch_minute_stock_data('AAPL', start_time)\n",
    "    return data\n",
    "\n",
    "# Run single fetch test\n",
    "single_symbol_data = await test_single_fetch()\n",
    "print(f\"Fetched {len(single_symbol_data)} records for AAPL\")\n",
    "if single_symbol_data:\n",
    "    print(\"Sample data point:\", single_symbol_data[0])"
   ]
  },
  {
   "cell_type": "code",
   "execution_count": null,
   "metadata": {},
   "outputs": [],
   "source": [
    "# Test batch fetch\n",
    "async def test_batch_fetch():\n",
    "    start_time = datetime.now() - timedelta(days=1)\n",
    "    data = await fetcher.fetch_stock_batch(TEST_SYMBOLS[:2], start_time)\n",
    "    return data\n",
    "\n",
    "batch_data = await test_batch_fetch()\n",
    "print(f\"Fetched {len(batch_data)} total records for batch\")\n",
    "# Group by symbol and count\n",
    "if batch_data:\n",
    "    df = pd.DataFrame([(d.symbol, d.timestamp) for d in batch_data], \n",
    "                      columns=['symbol', 'timestamp'])\n",
    "    print(\"\\nRecords per symbol:\")\n",
    "    print(df.groupby('symbol').count())"
   ]
  },
  {
   "cell_type": "code",
   "execution_count": null,
   "metadata": {},
   "outputs": [],
   "source": [
    "# Test full fetch\n",
    "async def test_full_fetch():\n",
    "    start_time = datetime.now() - timedelta(days=1)\n",
    "    df = await fetcher.fetch_stock_all(start_time)\n",
    "    return df\n",
    "\n",
    "full_data_df = await test_full_fetch()\n",
    "\n",
    "if not full_data_df.empty:\n",
    "    print(\"\\nData summary:\")\n",
    "    print(full_data_df.groupby('symbol').agg({\n",
    "        'price': ['count', 'mean', 'std'],\n",
    "        'volume': 'sum'\n",
    "    }))"
   ]
  },
  {
   "cell_type": "code",
   "execution_count": null,
   "metadata": {},
   "outputs": [],
   "source": [
    "# Test cache functionality\n",
    "from data_fetcher import MarketData\n",
    "\n",
    "test_data = MarketData(\n",
    "    timestamp=datetime.now(),\n",
    "    symbol='AAPL',\n",
    "    price=150.0,\n",
    "    volume=1000\n",
    ")\n",
    "\n",
    "fetcher.update_cache(test_data)\n",
    "print(\"Cached data:\", fetcher._cache['AAPL'])"
   ]
  }
 ],
 "metadata": {
  "kernelspec": {
   "display_name": "Python 3",
   "language": "python",
   "name": "python3"
  },
  "language_info": {
   "codemirror_mode": {
    "name": "ipython",
    "version": 3
   },
   "file_extension": ".py",
   "mimetype": "text/x-python",
   "name": "python",
   "nbconvert_exporter": "python",
   "pygments_lexer": "ipython3",
   "version": "3.9.18"
  }
 },
 "nbformat": 4,
 "nbformat_minor": 2
}
